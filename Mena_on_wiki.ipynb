{
 "cells": [
  {
   "cell_type": "markdown",
   "metadata": {},
   "source": [
    "# Repositorien auf Wikipedia"
   ]
  },
  {
   "cell_type": "markdown",
   "metadata": {},
   "source": [
    "Wikipedia ist eine der weltweit am meisten genutzten Internetangebote und ein zentraler Informationsservice. Allein die englische Wikipedia zählt über 6 Millionen Einträge. Alle Wikipedias zusammen verzeichnen monatlich annähernd 2 Milliarden Zugriffe <a href=\"https://stats.wikimedia.org/#/all-wikipedia-projects/reading/unique-devices/normal|bar|2-year|(access-site)~mobile-site*desktop-site|monthly\">(Link)</a>.\n",
    "\n",
    "Allein durch die schiere Menge an Content und die damit einhergehende Popularität ist Wikipedia als eine gewichtige Akteurin im heutigen öffentlichen und auch wissenschaftlichen Informationsökosystem anzusehen. Forscher:innen benutzen selbstverständlich Wikipedia z.B. zum Nachschlagen und zur schnellen Recherche.\n",
    "\n",
    "Der Einfluss auf die Forschung ist dabei zwar i.d.R. mittelbar oder aber verschleiert (vgl. etwa [Link](https://sciencesprings.wordpress.com/2018/02/08/from-sciencenews-wikipedia-has-become-a-science-reference-source-even-though-scientists-dont-cite-it/) bzw. [Link](https://www.sciencenews.org/blog/scicurious/wikipedia-science-reference-citations)).\n",
    "\n",
    "Unabhängig von der wissenschaftlichen [Belastbarkeit](https://en.wikipedia.org/wiki/Reliability_of_Wikipedia) der Einträge im Einzelnen und der Akzeptanz in der Wissenschaftscommunity im Allgemeinen (vgl. etwa [Polk/Evers 2015](https://doi.org/10.1007/s11528-015-0858-6), [Selwyn/Gorard 2015](https://doi.org/10.1016/j.iheduc.2015.08.004) und [Teplitskiy et al. 2017](http://arxiv.org/abs/1506.07608)) bietet Wikipedia gerade für Fachinformationsdienstleister eine bedeutende Plattform zur Distribution von Fachinformation und zur Bewerbung der eigenen Services.\n",
    "\n",
    "Im Folgenden soll ein Analyse zur Zahl der Verweise auf gängige Fach- und allgemeine Repositorien auf verschiedenen Sprachversionen von Wikipedia vorgestellt werden."
   ]
  },
  {
   "cell_type": "markdown",
   "metadata": {},
   "source": [
    "## Repositorien\n",
    "\n",
    "In `REPOS` wurden die URL verschiedener relevanter Repositorien zusammengetragen. Die Auswahl ließe sich beliebig erweitern oder einschränken.\n",
    "\n",
    "Die URL müssen ohne Protokoll (`http://` bzw. `https://`) angeben."
   ]
  },
  {
   "cell_type": "code",
   "execution_count": 339,
   "metadata": {},
   "outputs": [],
   "source": [
    "REPOS = {\n",
    "    'Propylaeum': \"archiv.ub.uni-heidelberg.de/propylaeumdok\",\n",
    "    'MenaDoc': \"menadoc.bibliothek.uni-halle.de\",\n",
    "    #'MenaDoc DOI' :'dx.doi.org/10.25673',\n",
    "    #'Share_It' : 'opendata.uni-halle.de',\n",
    "    #'intR2' : 'intr2dok.vifa-recht.de',\n",
    "    'core' : 'core.ac.uk',\n",
    "    #'Refubium' : 'refubium.fu-berlin.de',\n",
    "    'edoc HU' : 'edoc.hu-berlin.de',\n",
    "    'BIB OPUS' : 'opus4.kobv.de',\n",
    "    #'SLUB Qucosa' : 'slub.qucosa.de',\n",
    "    #'bonndoc' : 'bonndoc.ulb.uni-bonn.de',\n",
    "    #'Uni Tübingen' : 'publikationen.uni-tuebingen.de',\n",
    "    'DASH Harvard' : 'dash.harvard.edu',\n",
    "    'DSpace@MIT' : 'dspace.mit.edu',\n",
    "    #'ORA Oxford' : 'ora.ox.ac.uk',\n",
    "    'Zenodo' : 'zenodo.org/record',\n",
    "    'Zenodo DOI' : 'doi.org/10.5281'\n",
    "       }"
   ]
  },
  {
   "cell_type": "code",
   "execution_count": 262,
   "metadata": {},
   "outputs": [],
   "source": [
    "# Import der benötigten Module\n",
    "\n",
    "import requests\n",
    "from bs4 import BeautifulSoup\n",
    "\n",
    "import pandas as pd\n",
    "\n",
    "# Zur Generierung des Zeitstempels\n",
    "from datetime import datetime"
   ]
  },
  {
   "cell_type": "code",
   "execution_count": 305,
   "metadata": {},
   "outputs": [],
   "source": [
    "# Definiere Funktion zum Abruf der Wikipedia-API.\n",
    "# Es wird eine Liste von Dictionaries zurückgegeben.\n",
    "\n",
    "\"\"\"\n",
    "    get_exturlusage.py\n",
    "\n",
    "    MediaWiki API Demos\n",
    "    Demo of `Exturlusage` module: Enumerate pages that contain a given URL.\n",
    "\n",
    "    MIT License\n",
    "    \n",
    "    angepasst durch Alexander Winkler\n",
    "\"\"\"\n",
    "\n",
    "S = requests.Session()\n",
    "\n",
    "def get_links_from_wikis(code,repo_url):\n",
    "    URL = f\"https://{code}.wikipedia.org/w/api.php\"\n",
    "\n",
    "    PARAMS = {\n",
    "        \"action\": \"query\",\n",
    "        \"format\": \"json\",\n",
    "        \"list\": \"exturlusage\",\n",
    "        \"euquery\": repo_url,\n",
    "        \"eulimit\" : 500,\n",
    "        \"meta\" : \"siteinfo\"\n",
    "    }\n",
    "\n",
    "    R = S.get(url=URL, params=PARAMS)\n",
    "    DATA = R.json()\n",
    "\n",
    "    EXTURLS = DATA[\"query\"][\"exturlusage\"]\n",
    "\n",
    "    return_list = [{\n",
    "        'repo' : repo_url,\n",
    "        'titel': exturl[\"title\"],\n",
    "        'url' : exturl[\"url\"],\n",
    "        'code' : code,\n",
    "        'pageID' : exturl[\"pageid\"]} for exturl in EXTURLS]\n",
    "    return return_list"
   ]
  },
  {
   "cell_type": "markdown",
   "metadata": {},
   "source": [
    "## Wikipedia-Versionen\n",
    "\n",
    "Erzeuge eine Liste der verschiedenen Wikipedia-Versionen auf Basis einer entsprechenden Liste auf `wikipedia_list_url`. Es wird eine Liste (`WIKIS`) von Dictionaries zurückgegeben."
   ]
  },
  {
   "cell_type": "code",
   "execution_count": 300,
   "metadata": {},
   "outputs": [],
   "source": [
    "wikipedia_list_url = \"https://en.wikipedia.org/wiki/List_of_Wikipedias\"\n",
    "\n",
    "req = requests.get(wikipedia_list_url)\n",
    "html = req.content\n",
    "soup = BeautifulSoup(html, 'html.parser')\n",
    "table = soup.findAll('table')[1]\n",
    "\n",
    "WIKIS = []\n",
    "rows = table.findAll('tr')\n",
    "for row in rows[1:]:\n",
    "    link = row.findAll('td')[2].find('a')\n",
    "    code = link.text\n",
    "    wiki_link = link['href']\n",
    "    language = row.find('td').text\n",
    "    WIKIS.append({\n",
    "        'code' : code,\n",
    "        'link' : wiki_link,\n",
    "        'lang' : language\n",
    "    })"
   ]
  },
  {
   "cell_type": "code",
   "execution_count": 336,
   "metadata": {},
   "outputs": [],
   "source": [
    "# Abfrage der Wikipedia-Versionen (bis `cutoff` in der Liste,\n",
    "# um nicht immer alle Versionen abfragen zu müssen). Cutoff-Wert\n",
    "# entspricht also der Zahl von Wikipedia-Versionen.\n",
    "\n",
    "cutoff = 5\n",
    "\n",
    "OUTPUT_DICT = {}\n",
    "for name,url in REPOS.items():\n",
    "    output = []\n",
    "    for wiki in WIKIS[:cutoff-1]:\n",
    "        try:\n",
    "            OUT = get_links_from_wikis(wiki['code'],url)\n",
    "            output.append(OUT)\n",
    "        except Exception as e:\n",
    "            print(e)\n",
    "            print(wiki['lang'])\n",
    "    OUTPUT_DICT[name] = output"
   ]
  },
  {
   "cell_type": "code",
   "execution_count": 337,
   "metadata": {},
   "outputs": [],
   "source": [
    "# Forme OUTPUT_DICT um, um besser plotten zu können.\n",
    "\n",
    "PLOT_DICT = {}\n",
    "\n",
    "for k in OUTPUT_DICT.keys():\n",
    "    if not k in PLOT_DICT.keys():\n",
    "        PLOT_DICT[k] = {}\n",
    "    for elem in OUTPUT_DICT[k]:\n",
    "        for e in elem:\n",
    "            try:\n",
    "                PLOT_DICT[k][e['code']] += 1\n",
    "            except KeyError:\n",
    "                PLOT_DICT[k][e['code']] = 1"
   ]
  },
  {
   "cell_type": "code",
   "execution_count": 338,
   "metadata": {},
   "outputs": [
    {
     "data": {
      "image/png": "[encoded data removed]",
      "text/plain": [
       "<Figure size 936x504 with 1 Axes>"
      ]
     },
     "metadata": {
      "needs_background": "light"
     },
     "output_type": "display_data"
    }
   ],
   "source": [
    "#https://stackoverflow.com/questions/56076590/plotting-multiple-bars-with-matplotlib-using-ax-bar\n",
    "\n",
    "# Erzeuge Zeitstempel\n",
    "date = datetime.today().strftime(\"%d.%m.%Y\")\n",
    "\n",
    "df = pd.DataFrame.from_dict(PLOT_DICT).sort_values(by='MenaDoc',ascending=False).head(7)\n",
    "\n",
    "ax = df.plot.bar(rot=0,width=0.8,logy=False,align='center', figsize=(13,7))\n",
    "titel = f\"Verlinkung der Repositorien auf Wikipedia (Stand: {date})\"\n",
    "ax.set_title(titel)\n",
    "ax.set_xlabel(\"Sprache\")\n",
    "ax.set_ylabel(\"Linkzahlen\")\n",
    "fig = ax.get_figure()\n",
    "fig.savefig(f\"repo_wiki_link_{date.replace('.','')}.png\",dpi=250)"
   ]
  },
  {
   "cell_type": "markdown",
   "metadata": {},
   "source": [
    "## Anmerkungen\n",
    "\n",
    "Aus der Übersicht geht deutlich hervor, dass einige Repositorien (Menadoc, edoc HU und Propyläum) auf der deutschen Wikipedia recht stark vertreten sind, auf Ressourcen dieser Repositorien also oft verlinkt wird.\n",
    "Die nationalen Repositorien in Deutschland bedienen dabei insbesondere die deutsche Community, strahlen jedoch offenbar auch in die englischsprachige Forschung aus. Zu klären wäre hier noch, ob sich die Links der englischen Wikipedia mit denen der deutschen Decken, der Rückgriff also durch Übersetzung o.ä. zu erklären ist, oder ob dieser eher unabhängig erfolgt ist.\n",
    "\n",
    "Auffällig ist die generell deutlich größere Verbreitung von Links auf nationale Repositorien in Deutschland.\n",
    "\n",
    "Eine wichtige Limitation der Analyse betrifft die in `REPOS` angegebenen URLs. In der Regel wurden keine DOI oder sonstige Resolver-Links berücksichtigt. Für Repositorien, die (wie z.B. [qucosa](https://tud.qucosa.de) der TU Dresden bzw. SLUB Dresden), für die persistente Zitation auf einen Linkresolver verweisen, kann es zu Verzerrungen kommen.\n",
    "\n",
    "Die Graphik ist bei `y == 500` gekappt, weil die Wikipedia-API die Linkausgabe auf 500 beschränkt. Eine Lösung für dieses [Problem](https://stackoverflow.com/questions/67278483/continue-parameter-in-wikipedia-api-request) wurde noch nicht gefunden."
   ]
  },
  {
   "cell_type": "markdown",
   "metadata": {},
   "source": [
    "Alexander Winkler [(✉ E-Mail)](mailto:alexander.winkler@bibliothek.uni-halle.de), 28.4.2021\n",
    "\n",
    "\n",
    "<div itemscope itemtype=\"https://schema.org/Person\">\n",
    "    <a itemprop=\"sameAs\" content=\"https://orcid.org/0000-0002-9145-7238\" href=\"https://orcid.org/0000-0002-9145-7238\" target=\"orcid.widget\" rel=\"me noopener noreferrer\">\n",
    "        <img src=\"https://orcid.org/sites/default/files/images/orcid_16x16.png\" alt=\"ORCID iD icon\" align=\"left\"/> https://orcid.org/0000-0002-9145-7238\n",
    "    </a>\n",
    "</div>\n",
    "\n"
   ]
  },
  {
   "cell_type": "markdown",
   "metadata": {},
   "source": [
    "<a rel=\"license\" href=\"http://creativecommons.org/licenses/by/4.0/\"><img alt=\"Creative Commons Licence\" style=\"border-width:0\" src=\"https://i.creativecommons.org/l/by/4.0/88x31.png\" /></a><br />This work is licensed under a <a rel=\"license\" href=\"http://creativecommons.org/licenses/by/4.0/\">Creative Commons Attribution 4.0 International License</a>."
   ]
  }
 ],
 "metadata": {
  "kernelspec": {
   "display_name": "Python 3",
   "language": "python",
   "name": "python3"
  },
  "language_info": {
   "codemirror_mode": {
    "name": "ipython",
    "version": 3
   },
   "file_extension": ".py",
   "mimetype": "text/x-python",
   "name": "python",
   "nbconvert_exporter": "python",
   "pygments_lexer": "ipython3",
   "version": "3.6.9"
  }
 },
 "nbformat": 4,
 "nbformat_minor": 2
}
